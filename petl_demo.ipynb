{
 "cells": [
  {
   "cell_type": "code",
   "execution_count": null,
   "metadata": {},
   "outputs": [],
   "source": [
    "import petl as etl\n",
    "import psycopg2\n",
    "\n",
    "# Database connection parameters\n",
    "db_params = {\n",
    "    'dbname': 'your_database',\n",
    "    'user': 'your_username',\n",
    "    'password': 'your_password',\n",
    "    'host': 'localhost',  # or your database host\n",
    "    'port': '5432'        # default PostgreSQL port\n",
    "}\n",
    "\n",
    "# Step 1: Extract data from CSV\n",
    "# Replace 'input.csv' with your actual CSV file path\n",
    "table = etl.fromcsv('input.csv')\n",
    "\n",
    "# Step 2: Transform data\n",
    "# Example transformations:\n",
    "# 1. Rename columns\n",
    "table = etl.rename(table, {'old_column_name': 'new_column_name'})\n",
    "\n",
    "# 2. Filter rows (e.g., where a column value is greater than a threshold)\n",
    "table = etl.cutout(table, 'unwanted_column')  # Remove unwanted column\n",
    "table = etl.select(table, '{column_name} > 100')  # Filter rows based on a condition\n",
    "\n",
    "# 3. Add a new calculated column\n",
    "table = etl.addfield(table, 'new_calculated_column', lambda rec: rec['existing_column'] * 2)\n",
    "\n",
    "# Step 3: Load data into PostgreSQL\n",
    "# Create a connection to the PostgreSQL database\n",
    "conn = psycopg2.connect(**db_params)\n",
    "cur = conn.cursor()\n",
    "\n",
    "# Create a table in PostgreSQL (if it doesn't exist)\n",
    "cur.execute(\"\"\"\n",
    "CREATE TABLE IF NOT EXISTS your_table (\n",
    "    new_column_name VARCHAR(255),\n",
    "    new_calculated_column INTEGER\n",
    ");\n",
    "\"\"\")\n",
    "conn.commit()\n",
    "\n",
    "# Load data into PostgreSQL\n",
    "etl.todb(table, conn, 'your_table', ifexists='append')\n",
    "\n",
    "# Close the database connection\n",
    "cur.close()\n",
    "conn.close()\n",
    "\n",
    "print(\"ETL process completed successfully.\")\n"
   ]
  }
 ],
 "metadata": {
  "kernelspec": {
   "display_name": ".venv",
   "language": "python",
   "name": "python3"
  },
  "language_info": {
   "name": "python",
   "version": "3.12.5"
  }
 },
 "nbformat": 4,
 "nbformat_minor": 2
}
