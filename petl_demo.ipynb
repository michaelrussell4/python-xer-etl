{
 "cells": [
  {
   "cell_type": "code",
   "execution_count": 4,
   "metadata": {},
   "outputs": [],
   "source": [
    "import sqlite3\n",
    "import petl as etl\n",
    "from xerparser import Xer\n",
    "\n",
    "file = 'assets/project.xer'\n",
    "conn = sqlite3.connect('assets/demo.db')\n",
    "\n",
    "def create_table_if_not_exists(conn, table_name, columns):\n",
    "    cursor = conn.cursor()\n",
    "    cursor.execute(f\"SELECT name FROM sqlite_master WHERE type='table' AND name='{table_name}';\")\n",
    "    if not cursor.fetchone():\n",
    "        columns_def = ', '.join([f\"{col} TEXT\" for col in columns])\n",
    "        cursor.execute(f\"CREATE TABLE {table_name} ({columns_def});\")\n",
    "    cursor.close()\n",
    "\n",
    "try:\n",
    "    # Read and parse the XER file\n",
    "    with open(file, encoding=Xer.CODEC, errors=\"ignore\") as f:\n",
    "        file_contents = f.read()\n",
    "    xer = Xer(file_contents)\n",
    "\n",
    "    # Iterate over XER tables and save them into SQLite\n",
    "    for name, data in xer.tables.items():\n",
    "        if isinstance(data, list) and isinstance(data[0], dict):\n",
    "            table = etl.fromdicts(data)\n",
    "            columns = data[0].keys()\n",
    "            create_table_if_not_exists(conn, name, columns)\n",
    "            etl.todb(table, conn, name)  # Write to SQLite database\n",
    "        else:\n",
    "            continue\n",
    "\n",
    "except Exception as e:\n",
    "    print(f\"An error occurred: {e}\")\n",
    "\n",
    "finally:\n",
    "    if conn:\n",
    "        conn.close()  # Close the connection when finished"
   ]
  },
  {
   "cell_type": "code",
   "execution_count": null,
   "metadata": {},
   "outputs": [],
   "source": []
  }
 ],
 "metadata": {
  "kernelspec": {
   "display_name": ".venv",
   "language": "python",
   "name": "python3"
  },
  "language_info": {
   "codemirror_mode": {
    "name": "ipython",
    "version": 3
   },
   "file_extension": ".py",
   "mimetype": "text/x-python",
   "name": "python",
   "nbconvert_exporter": "python",
   "pygments_lexer": "ipython3",
   "version": "3.12.5"
  }
 },
 "nbformat": 4,
 "nbformat_minor": 2
}
